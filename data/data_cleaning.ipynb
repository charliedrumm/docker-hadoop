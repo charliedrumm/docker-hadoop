{
 "cells": [
  {
   "cell_type": "code",
   "execution_count": 2,
   "metadata": {},
   "outputs": [],
   "source": [
    "import pandas as pd\n",
    "\n",
    "# Load the dataset\n",
    "file_path = 'Disease_symptom_dataset.csv'  # replace with your file path\n",
    "df = pd.read_csv(file_path)\n",
    "\n",
    "# Extracting required information and transforming each row into the desired format\n",
    "def create_simplified_format(row):\n",
    "    symptoms = []\n",
    "    for col in [\"Fever\", \"Cough\", \"Fatigue\", \"Difficulty Breathing\"]:\n",
    "        if row[col] == \"Yes\":\n",
    "            symptoms.append(col.replace(\" \", \"\"))\n",
    "    return f\"{row['Disease']}_{'_'.join(symptoms)}_{row['Outcome Variable']}\"\n",
    "\n",
    "df[\"Simplified\"] = df.apply(create_simplified_format, axis=1)\n",
    "\n",
    "# Outputting the result to a file\n",
    "output_file_path = 'simplified_disease_symptom.txt'  # replace with your desired output file path\n",
    "df[\"Simplified\"].to_csv(output_file_path, index=False, header=False)"
   ]
  }
 ],
 "metadata": {
  "kernelspec": {
   "display_name": "base",
   "language": "python",
   "name": "python3"
  },
  "language_info": {
   "codemirror_mode": {
    "name": "ipython",
    "version": 3
   },
   "file_extension": ".py",
   "mimetype": "text/x-python",
   "name": "python",
   "nbconvert_exporter": "python",
   "pygments_lexer": "ipython3",
   "version": "3.10.8"
  }
 },
 "nbformat": 4,
 "nbformat_minor": 2
}
